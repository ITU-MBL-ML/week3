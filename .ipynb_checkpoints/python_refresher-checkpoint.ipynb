{
 "cells": [
  {
   "cell_type": "markdown",
   "metadata": {},
   "source": [
    "## PYTHON REFRESHER\n",
    "\n",
    "1. import\n",
    "- white space\n",
    "- functions\n",
    "- strings\n",
    "- exceptions\n",
    "- lists\n",
    "- tuples\n",
    "- dictionaries\n",
    "- sets\n",
    "- flow control\n",
    "- truthiness\n",
    "- sorting\n",
    "- list comprehension\n",
    "- object-oriented programming(oop)\n",
    "- iterables/generators\n",
    "- randomness\n",
    "- regular expressions\n",
    "- functional programming\n",
    "- args/kwargs\n"
   ]
  },
  {
   "cell_type": "markdown",
   "metadata": {},
   "source": [
    "### IMPORTS"
   ]
  },
  {
   "cell_type": "markdown",
   "metadata": {},
   "source": [
    "There is a good practices document created by Google check it.  \n",
    "http://google.github.io/styleguide/pyguide.html"
   ]
  },
  {
   "cell_type": "code",
   "execution_count": 1,
   "metadata": {},
   "outputs": [
    {
     "name": "stdout",
     "output_type": "stream",
     "text": [
      "4\n"
     ]
    }
   ],
   "source": [
    "# importing\n",
    "import random \n",
    "print(random.randint(1,10))\n",
    "\n",
    "# importing randomg with an alias of rnd\n",
    "# import random as rnd \n",
    "# print(rnd.randint(1,10))\n",
    "\n",
    "\n",
    "# Bad practice \n",
    "#from random import * \n",
    "#print(randint(1,10))\n",
    "\n",
    "# importing specific function\n",
    "# from random import randint \n",
    "# print(randint(1,10))\n",
    "\n"
   ]
  },
  {
   "cell_type": "markdown",
   "metadata": {},
   "source": [
    "### FORMATTING/SPACING"
   ]
  },
  {
   "cell_type": "code",
   "execution_count": 2,
   "metadata": {},
   "outputs": [
    {
     "name": "stdout",
     "output_type": "stream",
     "text": [
      "['student1', 'student2', 'student3', 'student4', 'student5']\n",
      "second version:  [('student1', 'student2', 'student3'), ('student4', ' student5')]\n"
     ]
    }
   ],
   "source": [
    "# white space is not considered\n",
    "\n",
    "class_list = [\"student1\",\"student2\",\"student3\",\"student4\",\"student5\"]\n",
    "print(class_list)\n",
    "\n",
    "class_list =  [(     \"student1\",\"student2\",    \n",
    "                        \"student3\"),\n",
    "                   (\"student4\",\" student5\"          \n",
    "                   )  ]\n",
    "print(\"second version: \", class_list)"
   ]
  },
  {
   "cell_type": "markdown",
   "metadata": {},
   "source": [
    "### FUNCTIONS"
   ]
  },
  {
   "cell_type": "markdown",
   "metadata": {},
   "source": [
    "Python uses docstrings to document code. A docstring is a string that is the first statement in a package, module, class or function. These strings can be extracted automatically through the __doc__ member of the object and are used by pydoc. (Try running pydoc on your module to see how it looks.) Always use the three double-quote \"\"\" format for docstrings (per PEP 257). A docstring should be organized as a summary line (one physical line) terminated by a period, question mark, or exclamation point, followed by a blank line, followed by the rest of the docstring starting at the same cursor position as the first quote of the first line. There are more formatting guidelines for docstrings below."
   ]
  },
  {
   "cell_type": "code",
   "execution_count": 13,
   "metadata": {},
   "outputs": [
    {
     "name": "stdout",
     "output_type": "stream",
     "text": [
      "32\n",
      "Help on function function_with_argument in module __main__:\n",
      "\n",
      "function_with_argument(x)\n",
      "    Takes the x power of 2\n",
      "    Args:\n",
      "        x: power\n",
      "    Returs:\n",
      "        x power of 2\n",
      "\n",
      "Help on built-in function print in module builtins:\n",
      "\n",
      "print(...)\n",
      "    print(value, ..., sep=' ', end='\\n', file=sys.stdout, flush=False)\n",
      "    \n",
      "    Prints the values to a stream, or to sys.stdout by default.\n",
      "    Optional keyword arguments:\n",
      "    file:  a file-like object (stream); defaults to the current sys.stdout.\n",
      "    sep:   string inserted between values, default a space.\n",
      "    end:   string appended after the last value, default a newline.\n",
      "    flush: whether to forcibly flush the stream.\n",
      "\n"
     ]
    }
   ],
   "source": [
    "def function_with_argument(x): # x is a value as an input argument\n",
    "    \"\"\"\n",
    "    Takes the x power of 2\n",
    "    Args:\n",
    "        x: power\n",
    "    Returs:\n",
    "        x power of 2\n",
    "    \n",
    "    \"\"\"\n",
    "    return 2**x\n",
    "\n",
    "print(function_with_argument(5))\n",
    "help(function_with_argument)\n",
    "help(print)"
   ]
  },
  {
   "cell_type": "code",
   "execution_count": 15,
   "metadata": {},
   "outputs": [
    {
     "name": "stdout",
     "output_type": "stream",
     "text": [
      "128\n"
     ]
    }
   ],
   "source": [
    "# function as an input argument\n",
    "def func_as_argument(f): \n",
    "    \"\"\" Calls function with 2 as argument\"\"\"\n",
    "    return f(2)\n",
    "\n",
    "my_value_as_argument = function_with_argument # First class function in Python\n",
    "print(func_as_argument(my_value_as_argument))"
   ]
  },
  {
   "cell_type": "markdown",
   "metadata": {},
   "source": [
    "A lambda function is a small anonymous function.\n",
    "\n",
    "A lambda function can take any number of arguments, but can only have one expression."
   ]
  },
  {
   "cell_type": "code",
   "execution_count": 16,
   "metadata": {},
   "outputs": [
    {
     "name": "stdout",
     "output_type": "stream",
     "text": [
      "70\n"
     ]
    }
   ],
   "source": [
    "y = func_as_argument(lambda x: x*5)# OR use a function w/o names (for convenience)\n",
    "print(y)"
   ]
  },
  {
   "cell_type": "code",
   "execution_count": 17,
   "metadata": {},
   "outputs": [
    {
     "name": "stdout",
     "output_type": "stream",
     "text": [
      "default hello\n",
      "bye\n",
      "hello to you\n"
     ]
    }
   ],
   "source": [
    "# Function with default arguments\n",
    "def greetings(msg=\"default hello\"):\n",
    "    print(msg)\n",
    "\n",
    "greetings() # using the default\n",
    "greetings(\"bye\") # using your input\n",
    "\n",
    "# Function with specifically named arguments\n",
    "def full_greetings(greetings=\"hello\", name=\"you\"):\n",
    "    print(greetings+\" to \"+name)\n",
    "\n",
    "full_greetings()"
   ]
  },
  {
   "cell_type": "markdown",
   "metadata": {},
   "source": [
    "### STRINGS"
   ]
  },
  {
   "cell_type": "code",
   "execution_count": 20,
   "metadata": {},
   "outputs": [
    {
     "name": "stdout",
     "output_type": "stream",
     "text": [
      "single\n",
      "double\n",
      "\n",
      "Special Char Printout\n",
      "first\n",
      "second\n",
      "\n",
      "Raw Special Char Printout\n",
      "\\n\n",
      "\n",
      "MULTI-LINE Printout Method: \n",
      "this is whatever\n",
      "        this is however\n",
      "this is wherever\n",
      "        \n",
      "\n",
      "+PLUS Printout Method: \n",
      "Ozgun Balaban\n",
      "\n",
      ".FORMAT Printout Method: \n",
      "Ozgun Balaban\n",
      "\n",
      "F-STRING Printout Method: \n",
      "Ozgun Balaban\n"
     ]
    }
   ],
   "source": [
    "# use either double \"\" or single '' is fine as ling as they match\n",
    "print ('single')\n",
    "print (\"double\")\n",
    "\n",
    "# backslashes to encode special characters\n",
    "print(f\"\\nSpecial Char Printout\")\n",
    "print ('first'+'\\n'+'second')\n",
    "# Raw use r\"\", e.g. backslashes as backslashes\n",
    "print(f\"\\nRaw Special Char Printout\")\n",
    "print (r\"\\n\")\n",
    "\n",
    "# Multiple lines\n",
    "print(f\"\\nMULTI-LINE Printout Method: \")\n",
    "multiple = \"\"\"this is whatever\n",
    "        this is however\n",
    "this is wherever\n",
    "        \"\"\"\n",
    "print (multiple)\n",
    "\n",
    "# Combine strings by concatenation\n",
    "name = \"Ozgun\"+\" \"+\"Balaban\"\n",
    "print(f\"\\n+PLUS Printout Method: \")\n",
    "print (name)\n",
    "\n",
    "# Combine strings by string.format\n",
    "name_format = \"{0} {1}\".format(\"Ozgun\",\"Balaban\")\n",
    "print(f\"\\n.FORMAT Printout Method: \")\n",
    "print (name_format)\n",
    "\n",
    "# Combine strings by f-string\n",
    "name_f = f\"{'Ozgun'} {'Balaban'}\"\n",
    "print(f\"\\nF-STRING Printout Method: \")\n",
    "print (name_f)"
   ]
  },
  {
   "cell_type": "markdown",
   "metadata": {},
   "source": [
    "### EXCEPTIONS"
   ]
  },
  {
   "cell_type": "code",
   "execution_count": 21,
   "metadata": {},
   "outputs": [
    {
     "name": "stdout",
     "output_type": "stream",
     "text": [
      "No such function named nonExistent\n"
     ]
    }
   ],
   "source": [
    "# Handling potential errors and crashes\n",
    "try:\n",
    "    nonExistent()\n",
    "except NameError:\n",
    "    print(\"No such function named nonExistent\")\n",
    "    \n",
    "# This is what happens if there is no exception handling\n",
    "#nonExistent()"
   ]
  },
  {
   "cell_type": "code",
   "execution_count": 2,
   "metadata": {},
   "outputs": [
    {
     "name": "stdout",
     "output_type": "stream",
     "text": [
      "Sorry, no numbers below zero\n"
     ]
    }
   ],
   "source": [
    "x = -1\n",
    "\n",
    "if x < 0:\n",
    "  print(\"Sorry, no numbers below zero\")\n",
    "  # raise Exception(\"Sorry, no numbers below zero\")\n"
   ]
  },
  {
   "cell_type": "markdown",
   "metadata": {},
   "source": [
    "### LISTS"
   ]
  },
  {
   "cell_type": "markdown",
   "metadata": {},
   "source": [
    "Lists --> array in other languages"
   ]
  },
  {
   "cell_type": "code",
   "execution_count": 24,
   "metadata": {},
   "outputs": [],
   "source": [
    "# ordered collection (like array in other languages)\n",
    "int_list = [1,2,3,4,5,6,7,8,9,10]\n",
    "mixed_list = ['str','0.001',False]\n",
    "listed_list = [int_list ,mixed_list,[]]"
   ]
  },
  {
   "cell_type": "code",
   "execution_count": 25,
   "metadata": {},
   "outputs": [
    {
     "data": {
      "text/plain": [
       "3"
      ]
     },
     "execution_count": 25,
     "metadata": {},
     "output_type": "execute_result"
    }
   ],
   "source": [
    "#check length of list\n",
    "len(listed_list)"
   ]
  },
  {
   "cell_type": "code",
   "execution_count": 26,
   "metadata": {},
   "outputs": [
    {
     "data": {
      "text/plain": [
       "False"
      ]
     },
     "execution_count": 26,
     "metadata": {},
     "output_type": "execute_result"
    }
   ],
   "source": [
    "#Indexing\n",
    "mixed_list[0]\n",
    "mixed_list[-1]"
   ]
  },
  {
   "cell_type": "code",
   "execution_count": 32,
   "metadata": {},
   "outputs": [
    {
     "data": {
      "text/plain": [
       "[1, 2, 3, 4, 5, 6, 7, 8, 9, 10]"
      ]
     },
     "execution_count": 32,
     "metadata": {},
     "output_type": "execute_result"
    }
   ],
   "source": [
    "#Slicing [i:j], i inclusive and j non-inclusive\n",
    "#int_list[1:5]\n",
    "#int_list[:5]\n",
    "#int_list[1:]\n",
    "list_copy = int_list[:]\n",
    "list_copy"
   ]
  },
  {
   "cell_type": "code",
   "execution_count": null,
   "metadata": {},
   "outputs": [],
   "source": [
    "#Slicing with Strides\n",
    "int_list[::3] # 3 steps\n",
    "int_list[1:5:3] # 3 steps"
   ]
  },
  {
   "cell_type": "code",
   "execution_count": 33,
   "metadata": {},
   "outputs": [
    {
     "data": {
      "text/plain": [
       "False"
      ]
     },
     "execution_count": 33,
     "metadata": {},
     "output_type": "execute_result"
    }
   ],
   "source": [
    "\n",
    "# List membership (checking one item at a time--not ideal for long lists)\n",
    "1 in int_list\n",
    "11 in int_list\n"
   ]
  },
  {
   "cell_type": "code",
   "execution_count": 34,
   "metadata": {},
   "outputs": [
    {
     "name": "stdout",
     "output_type": "stream",
     "text": [
      "Concatenated List:\n",
      "[1, 2, 3, 4, 5, 6, 7, 8, 9, 10, 11, 12, 13]\n",
      "\n",
      "Extended List:\n",
      "[1, 2, 3, 11, 12, 13]\n"
     ]
    }
   ],
   "source": [
    "\n",
    "# Concatenate lists\n",
    "int_list.extend([11,12,13]) # modify int_list\n",
    "print (\"Concatenated List:\")\n",
    "print (int_list)\n",
    "new_int_list = int_list[:-10]+([11,12,13]) # int_list not modified\n",
    "print (\"\\nExtended List:\")\n",
    "print(new_int_list)"
   ]
  },
  {
   "cell_type": "code",
   "execution_count": 35,
   "metadata": {},
   "outputs": [
    {
     "name": "stdout",
     "output_type": "stream",
     "text": [
      "\n",
      "Appended list:\n",
      "[1, 2, 3, 4, 5, 6, 7, 8, 9, 10, 100]\n"
     ]
    }
   ],
   "source": [
    "\n",
    "# Append list (one at a time)\n",
    "x = [1,2,3,4,5,6,7,8,9,10]\n",
    "x.append(100)\n",
    "print(f\"\\nAppended list:\")\n",
    "print(x)\n",
    "\n",
    "\n"
   ]
  },
  {
   "cell_type": "code",
   "execution_count": 42,
   "metadata": {},
   "outputs": [
    {
     "data": {
      "text/plain": [
       "'me'"
      ]
     },
     "execution_count": 42,
     "metadata": {},
     "output_type": "execute_result"
    }
   ],
   "source": [
    "# Unpack\n",
    "x, y = [\"me\",\"you\"] # Value Error if number of elements mismatched\n",
    "_,_, y = [\"him\",\"me\",\"you\"] # if not planning to use the \"me\" values (common practice)\n",
    "_"
   ]
  },
  {
   "cell_type": "markdown",
   "metadata": {},
   "source": [
    "### TUPLES"
   ]
  },
  {
   "cell_type": "code",
   "execution_count": 43,
   "metadata": {},
   "outputs": [
    {
     "name": "stdout",
     "output_type": "stream",
     "text": [
      "(20, 5.0)\n",
      "5.0\n",
      "100 200\n",
      "200 100\n"
     ]
    }
   ],
   "source": [
    "# immutable list (i.e. can't be modified)\n",
    "my_tuple = (1,2,3) # with parentheses\n",
    "# or\n",
    "my_tuple = 1,2 # or without parentheses\n",
    "\n",
    "# Convenient for storing and assigning multiple values\n",
    "def tuple_in_out(x,y):\n",
    "    #return (x*2),(y/2)\n",
    "    return x*2,y/2\n",
    "print (tuple_in_out(10,10))\n",
    "first,second = tuple_in_out(10,10)\n",
    "print(second)\n",
    "\n",
    "x, y = (100,200)\n",
    "print (x,y)\n",
    "x, y = y, x # swapping (pythonic)\n",
    "print (x,y)"
   ]
  },
  {
   "cell_type": "markdown",
   "metadata": {},
   "source": [
    "### DICTIONARIES"
   ]
  },
  {
   "cell_type": "code",
   "execution_count": 44,
   "metadata": {},
   "outputs": [
    {
     "name": "stdout",
     "output_type": "stream",
     "text": [
      "Access Dict's value: \n",
      "100\n",
      "\n",
      "Access non-existent Dict's key will return a False: \n",
      "False\n",
      "\n",
      "Access non-existent Dict's key, while returning a default value: \n",
      "150\n",
      "\n",
      "Assign a new 'Key:Value' pair: \n",
      "{'Corb': 100, 'Zaha': 200, 'Mies': 175}\n",
      "\n",
      "Get iterator for keys only:\n",
      "dict_keys(['Corb', 'Zaha', 'Mies'])\n",
      "\n",
      "Get iterator for values only:\n",
      "dict_values([100, 200, 175])\n",
      "\n",
      "Get iterator for both keys & value:\n",
      "dict_items([('Corb', 100), ('Zaha', 200), ('Mies', 175)])\n"
     ]
    }
   ],
   "source": [
    "# Dictionary is useful for representing strcutured data\n",
    "my_dict = {} # or use dict()\n",
    "architects = {\"Corb\": 100, \"Zaha\": 200 } # key(immutable+hashable): value. key as string or tuple\n",
    "print(\"Access Dict's value: \")\n",
    "print (architects[\"Corb\"])\n",
    "\n",
    "print(\"\\nAccess non-existent Dict's key will return a False: \")\n",
    "print(\"Gropius\" in architects) # fast checking & pythonic\n",
    "\n",
    "print(\"\\nAccess non-existent Dict's key, while returning a default value: \")\n",
    "print(architects.get(\"Gropius\",150)) # the get method provide a default value for a non-existent key (ie. no KeyError)\n",
    "\n",
    "print(\"\\nAssign a new 'Key:Value' pair: \")\n",
    "architects[\"Mies\"] = 175 # assign key/values\n",
    "print (architects)\n",
    "\n",
    "# Iterators of all keys and values\n",
    "print(\"\\nGet iterator for keys only:\")\n",
    "print (architects.keys())\n",
    "\n",
    "print(\"\\nGet iterator for values only:\")\n",
    "print (architects.values())\n",
    "\n",
    "print(\"\\nGet iterator for both keys & value:\")\n",
    "print (architects.items())"
   ]
  },
  {
   "cell_type": "code",
   "execution_count": 45,
   "metadata": {},
   "outputs": [
    {
     "name": "stdout",
     "output_type": "stream",
     "text": [
      "\n",
      "OPTION 1: Counting Occurrences\n",
      "{'Corb': 3, 'Zaha': 2, 'Gropius': 1}\n"
     ]
    }
   ],
   "source": [
    "# Counting element of a dataset\n",
    "dataset = [\"Corb\",\"Corb\",\"Corb\",\"Zaha\",\"Zaha\",\"Gropius\"]\n",
    "store_dataset = {}\n",
    "for d in dataset:\n",
    "    count = store_dataset.get(d,0) #non-existent key will now be given a 0 value\n",
    "    store_dataset[d] = count + 1\n",
    "print(\"\\nOPTION 1: Counting Occurrences\")\n",
    "print (store_dataset)"
   ]
  },
  {
   "cell_type": "code",
   "execution_count": 46,
   "metadata": {},
   "outputs": [
    {
     "name": "stdout",
     "output_type": "stream",
     "text": [
      "\n",
      "OPTION 2:Counting Occurrence with DefaultDict(default with any data type):\n",
      "defaultdict(<class 'int'>, {'Corb': 3, 'Zaha': 2, 'Gropius': 1})\n"
     ]
    }
   ],
   "source": [
    "# OR use defaultdict\n",
    "from collections import defaultdict\n",
    "\n",
    "# can be used for other values, e.g. defaultdict(list), defaultdict(dict)...etc\n",
    "store_dataset_new = defaultdict(int) \n",
    "for d in dataset:\n",
    "    store_dataset_new[d]+=1\n",
    "print(\"\\nOPTION 2:Counting Occurrence with DefaultDict(default with any data type):\")\n",
    "print(store_dataset_new)"
   ]
  },
  {
   "cell_type": "code",
   "execution_count": 45,
   "metadata": {},
   "outputs": [
    {
     "name": "stdout",
     "output_type": "stream",
     "text": [
      "\n",
      "OPTION 3:Use Counter is even faster:\n",
      "Counter({'Corb': 3, 'Zaha': 2, 'Gropius': 1})\n",
      "\n",
      "Most common two elements:\n",
      "[('Corb', 3), ('Zaha', 2)]\n"
     ]
    }
   ],
   "source": [
    "# OR use Counters\n",
    "from collections import Counter\n",
    "\n",
    "counted = Counter(dataset) # Superfast: turns sequence to defaultdict(int)-like object\n",
    "\n",
    "print(\"\\nOPTION 3:Use Counter is even faster:\")\n",
    "print(counted)\n",
    "print(\"\\nMost common two elements:\")\n",
    "print (counted.most_common(2)) # top 2 (useful)\n"
   ]
  },
  {
   "cell_type": "markdown",
   "metadata": {},
   "source": [
    "### SETS"
   ]
  },
  {
   "cell_type": "code",
   "execution_count": 44,
   "metadata": {},
   "outputs": [
    {
     "name": "stdout",
     "output_type": "stream",
     "text": [
      "\n",
      "Original Set:\n",
      "{1, 2, 3, 4}\n",
      "\n",
      "Newly Extended Set:\n",
      "{1, 3}\n",
      "\n",
      "Is '3' in the Set? True\n",
      "\n",
      "Which are the distinct elements?\n",
      "[1, 2, 3, 4]\n"
     ]
    }
   ],
   "source": [
    "# Collection with distinct elements\n",
    "set_A = {1,2,3,4,4,1} # note: for empty set use set(), since {} will mean a dictionary\n",
    "print(\"\\nOriginal Set:\")\n",
    "print (set_A)\n",
    "set_B = set()\n",
    "set_B.add(3)# use add not append\n",
    "set_B.add(3)# \n",
    "set_B.add(1)# \n",
    "print(\"\\nNewly Extended Set:\")\n",
    "print(set_B)\n",
    "\n",
    "# Use set to check membership, because its faster compared to list, so convert list to set\n",
    "list_C = {1,2,3,4,4,1}\n",
    "set_C = set(list_C)\n",
    "print(f\"\\nIs '3' in the Set? {3 in set_C}\")\n",
    "# Use set to find distinct items\n",
    "distinct_list_C = list(set_C)\n",
    "print(\"\\nWhich are the distinct elements?\")\n",
    "print(distinct_list_C)"
   ]
  },
  {
   "cell_type": "markdown",
   "metadata": {},
   "source": [
    "### FLOW CONTROL"
   ]
  },
  {
   "cell_type": "code",
   "execution_count": 57,
   "metadata": {},
   "outputs": [
    {
     "name": "stdout",
     "output_type": "stream",
     "text": [
      "None\n",
      "None Too\n",
      "\n",
      "FOR LOOP: \n",
      "for:  0\n",
      "for:  1\n",
      "for:  2\n",
      "for:  3\n",
      "for:  4\n",
      "\n",
      "WHILE LOOP: \n",
      "while:  3\n",
      "while:  4\n",
      "while:  5\n",
      "while:  6\n",
      "while:  7\n",
      "while:  8\n",
      "while:  9\n",
      "\n",
      "CONTINUE or BREAK: \n",
      "hello:  0\n",
      "hello:  1\n",
      "hello:  2\n",
      "hello:  3\n",
      "hello:  4\n",
      "continued: 5\n",
      "hello:  6\n",
      "hello:  7\n",
      "broken: 7\n"
     ]
    }
   ],
   "source": [
    "if 1>2:\n",
    "    print(\"1>2\")\n",
    "elif 1>1.5:\n",
    "    print(\"1>1.5\")\n",
    "else:\n",
    "    print(\"None\")\n",
    "\n",
    "# OR\n",
    "print (\"1>2\" if 1>2 else \"None Too\") # leftmost if true and rightmost if false(else)\n",
    "\n",
    "# For Loop\n",
    "print(\"\\nFOR LOOP: \")\n",
    "for x in range(5):\n",
    "    print (\"for: \",x)\n",
    "    \n",
    "# While Loop\n",
    "print(\"\\nWHILE LOOP: \")\n",
    "x = 3\n",
    "while x<10:\n",
    "    print(\"while: \", x)\n",
    "    x+=1\n",
    "\n",
    "# Break & Continue\n",
    "print(\"\\nCONTINUE or BREAK: \")\n",
    "for x in range(10):\n",
    "    if x==5:\n",
    "        print ('continued:',x)\n",
    "        continue # go to next iteration now, thus no \"hello, 5\"\n",
    "        \n",
    "    print (\"hello: \", x)\n",
    "    \n",
    "    if x==7:\n",
    "        print('broken:',x)\n",
    "        break # quit the loop completely\n",
    "   \n"
   ]
  },
  {
   "cell_type": "markdown",
   "metadata": {},
   "source": [
    "### TRUTHINESS"
   ]
  },
  {
   "cell_type": "code",
   "execution_count": 59,
   "metadata": {},
   "outputs": [
    {
     "name": "stdout",
     "output_type": "stream",
     "text": [
      "True\n",
      "5\n",
      "5\n",
      "False\n",
      "True\n",
      "\n",
      "No Falsy element in list OR All Truthy elements in list: \n",
      "True\n",
      "\n",
      "No Truthy element in list: \n",
      "False\n"
     ]
    }
   ],
   "source": [
    "# Good for checking empty list,dict,str...\n",
    "all_falsy = [False,\n",
    "             None, # non-existence value , like null in other languages\n",
    "             [],\n",
    "             {},\n",
    "             \"\",\n",
    "             set(),\n",
    "             0,\n",
    "             0.0]\n",
    "\n",
    "print(all_falsy[1] is None) # use 'is' than '==' when checking , more Pythonic\n",
    "\n",
    "x = 5\n",
    "check_x = x or 0\n",
    "print(check_x)\n",
    "\n",
    "#OR\n",
    "check_x = x if x is not None else 0\n",
    "print(check_x)\n",
    "check_list = all(all_falsy)\n",
    "print(check_list)\n",
    "\n",
    "all_falsy.append(10)\n",
    "check_list = any(all_falsy)\n",
    "print(check_list)\n",
    "\n",
    "print(\"\\nNo Falsy element in list\")\n",
    "print(all([])) # no falsy element in list\n",
    "print(\"\\nNo Truthy element in list: \")\n",
    "print(any([])) # no truthy element in list"
   ]
  },
  {
   "cell_type": "markdown",
   "metadata": {},
   "source": [
    "### SORTING"
   ]
  },
  {
   "cell_type": "code",
   "execution_count": 67,
   "metadata": {},
   "outputs": [
    {
     "name": "stdout",
     "output_type": "stream",
     "text": [
      "Original Lists: \n",
      "y:  [1, 2, 3, 6, 8] \n",
      "x:  [6, 8, 1, 3, 2]\n",
      "\n",
      "Sorted x: \n",
      "[1, 2, 3, 6, 8]\n",
      "Original List to sort:\n",
      "{'Corb': 100, 'Zaha': 200, 'Mies': 175}\n",
      "\n",
      "Sort & Reversed:\n",
      "[('Zaha', 200), ('Mies', 175), ('Corb', 100)]\n"
     ]
    }
   ],
   "source": [
    "# sort and return a new sorted list\n",
    "x = [6,8,1,3,2]\n",
    "y = sorted(x)\n",
    "print (\"Original Lists: \\ny: \",y,\"\\nx: \",x)\n",
    "\n",
    "# sort in place\n",
    "x.sort()\n",
    "print(\"\\nSorted x: \")\n",
    "print (x)\n",
    "\n",
    "# sort with function , key specifies a function with a single argument\n",
    "print (\"Original List to sort:\")\n",
    "print(architects)\n",
    "\n",
    "#sorted(iterable[, key][, reverse]). Optional key=function and optional reverse=boolean\n",
    "sort_by_votes = sorted(architects.items(),key=lambda vote: vote[1],reverse=True)\n",
    "print (\"\\nSort & Reversed:\")\n",
    "print(sort_by_votes)\n",
    "\n"
   ]
  },
  {
   "cell_type": "markdown",
   "metadata": {},
   "source": [
    "### LIST COMPREHENSIONS"
   ]
  },
  {
   "cell_type": "code",
   "execution_count": 164,
   "metadata": {},
   "outputs": [
    {
     "name": "stdout",
     "output_type": "stream",
     "text": [
      "[0, 2, 4]\n",
      "[10, 11, 12, 13, 14]\n",
      "{'0': 10, '1': 11, '2': 12, '3': 13, '4': 14} <class 'dict'>\n",
      "{0, 1, 2, 3, 4} <class 'set'>\n",
      "[('h', 0), ('h', 1), ('h', 2), ('h', 3), ('h', 4), ('e', 0), ('e', 1), ('e', 2), ('e', 3), ('e', 4), ('l', 0), ('l', 1), ('l', 2), ('l', 3), ('l', 4), ('l', 0), ('l', 1), ('l', 2), ('l', 3), ('l', 4), ('o', 0), ('o', 1), ('o', 2), ('o', 3), ('o', 4)]\n"
     ]
    }
   ],
   "source": [
    "# Pythonic way to choosing and/or transforming a given list\n",
    "even_num = [x for x in range(5) if x%2==0]\n",
    "print (even_num)\n",
    "add_ten_num = [x+10 for x in range(5)]\n",
    "print (add_ten_num)\n",
    "list_to_dict_num = {str(x): x+10 for x in range(5)}\n",
    "print (list_to_dict_num, type(list_to_dict_num))\n",
    "list_to_set_num = {x for x in range(5)}\n",
    "print (list_to_set_num,type(list_to_set_num))\n",
    "\n",
    "\n",
    "# Multiple Fors (later fors are nested in earlier fors)\n",
    "two_fors = [(x,y) for x in \"hello\" for y in range(5)]\n",
    "print (two_fors)\n"
   ]
  },
  {
   "cell_type": "markdown",
   "metadata": {},
   "source": [
    "### OOP"
   ]
  },
  {
   "cell_type": "code",
   "execution_count": 72,
   "metadata": {},
   "outputs": [
    {
     "name": "stdout",
     "output_type": "stream",
     "text": [
      "\n",
      "w/o api:  0\n",
      "\n",
      "with api:  0\n",
      "\n",
      "String representation of the object instance: Architect(vote=0)\n",
      "\n",
      "Count Votes:  10\n",
      "\n",
      "Count Votes:  11\n",
      "\n",
      "Reset:  0\n"
     ]
    }
   ],
   "source": [
    "class Architect:\n",
    "    \"\"\" docstring for a class\"\"\"\n",
    "    def __init__(self, vote=0):\n",
    "        self.vote = vote\n",
    "        \n",
    "    def __repr__(self):#string representation of class instance\n",
    "        return f\"Architect(vote={self.vote})\"\n",
    "        \n",
    "    def read_vote(self):\n",
    "        return self.vote\n",
    "    \n",
    "    def add_vote(self, num=1):\n",
    "        self.vote+=num\n",
    "        \n",
    "    def reset_vote(self):\n",
    "        self.vote = 0\n",
    "\n",
    "architect_1 = Architect() # use default \n",
    "architect_2 = Architect(333)\n",
    "architect_3 = Architect(vote=333)# same as just 333\n",
    "\n",
    "print(\"\\nw/o api: \",architect_1.vote)\n",
    "print(\"\\nwith api: \", architect_1.read_vote())\n",
    "\n",
    "print(\"\\nString representation of the object instance: {}\".format(architect_1))\n",
    "architect_1.add_vote(10)\n",
    "print(\"\\nCount Votes: \", architect_1.read_vote())\n",
    "architect_1.add_vote()\n",
    "print(\"\\nCount Votes: \",architect_1.read_vote())\n",
    "architect_1.reset_vote()\n",
    "print(\"\\nReset: \",architect_1.read_vote())"
   ]
  },
  {
   "cell_type": "code",
   "execution_count": 73,
   "metadata": {},
   "outputs": [
    {
     "name": "stdout",
     "output_type": "stream",
     "text": [
      "1000\n",
      "None\n",
      "4000\n"
     ]
    }
   ],
   "source": [
    "#Subclassing / OOP Inheritance\n",
    "class FastArchitect(Architect):\n",
    "    \n",
    "    def __init__(self, vote=1000):\n",
    "        self.vote = vote\n",
    "        \n",
    "    def add_vote(self, num=1):\n",
    "        self.vote+=num*1000\n",
    "        \n",
    "architect_f = FastArchitect()\n",
    "print(architect_f.read_vote())\n",
    "print(architect_f.add_vote(3))\n",
    "print(architect_f.read_vote())"
   ]
  },
  {
   "cell_type": "markdown",
   "metadata": {},
   "source": [
    "### ITERABLES & GENERATORS"
   ]
  },
  {
   "cell_type": "code",
   "execution_count": 197,
   "metadata": {},
   "outputs": [
    {
     "name": "stdout",
     "output_type": "stream",
     "text": [
      "i: 0\n",
      "i: 1\n",
      "i: 2\n",
      "i: 3\n",
      "i: 4\n",
      "i: 5\n",
      "i: 6\n",
      "i: 7\n",
      "i: 8\n",
      "i: 9\n"
     ]
    }
   ],
   "source": [
    "# Use iterables / generators if we don't need to retrieve elemenst by indices,\n",
    "# esp. large-sized list (save memory) by loading lazily. range() is itself lazy actually.\n",
    "# Note: could only iterate generator once. Thus use list if multiple usages are needed.\n",
    "\n",
    "# FYI: don't use triple quotes for multiline comments, use pound sign like here.\n",
    "\n",
    "def generator_range(n):\n",
    "    i = 0\n",
    "    for i in range(n):\n",
    "        yield i # every yield will produce a value of the generator\n",
    "\n",
    "for i in generator_range(10):\n",
    "    print(f\"i: {i}\")\n"
   ]
  },
  {
   "cell_type": "code",
   "execution_count": 78,
   "metadata": {},
   "outputs": [
    {
     "name": "stdout",
     "output_type": "stream",
     "text": [
      "0 gehry\n",
      "1 zumthor\n",
      "2 zaha\n",
      "3 foster\n",
      "0 gehry\n",
      "1 zumthor\n",
      "2 zaha\n",
      "3 foster\n",
      "0 gehry\n",
      "1 zumthor\n",
      "2 zaha\n",
      "3 foster\n"
     ]
    }
   ],
   "source": [
    "# Iterting to access bioth index and value\n",
    "architects = [\"gehry\",\"zumthor\",\"zaha\",\"foster\"]\n",
    "# Not pythonic:\n",
    "for i in range(len(architects)):\n",
    "    print(i,architects[i])\n",
    "\n",
    "# Not pythonic:\n",
    "i=0\n",
    "for a in architects:\n",
    "    print (i, a)\n",
    "    i+=1\n",
    "\n",
    "# Pythonic:\n",
    "for i, a in enumerate(architects):\n",
    "    print(i,a)"
   ]
  },
  {
   "cell_type": "markdown",
   "metadata": {},
   "source": [
    "### RANDOMNESS"
   ]
  },
  {
   "cell_type": "code",
   "execution_count": 86,
   "metadata": {},
   "outputs": [
    {
     "name": "stdout",
     "output_type": "stream",
     "text": [
      "[0.13436424411240122, 0.8474337369372327, 0.763774618976614]\n",
      "4\n",
      "Specific Start & End: 5\n",
      "\n",
      "Reshuffled: \n",
      "[2, 6, 4, 0, 1, 3, 5, 8, 9, 7]\n",
      "\n",
      "The Best Architect is:\n",
      "foster\n",
      "\n",
      "Random pick w/o replacement:\n",
      "['foster', 'zaha']\n",
      "\n",
      "Random pick with replacement:\n",
      "['gehry', 'foster', 'zaha', 'zumthor', 'gehry', 'zaha', 'gehry', 'gehry', 'gehry', 'gehry']\n"
     ]
    }
   ],
   "source": [
    "import random\n",
    "\n",
    "random.seed(1) # to ensure reproducible results\n",
    "print([random.random() for i in range(3)]) # generate random number between 0 and 1\n",
    "\n",
    "print (random.randrange(10)) # choose btwn 0 to 9 integer\n",
    "print (f\"Specific Start & End: {random.randrange(5,10)}\") # choose btwn integers 5 to 9 \n",
    "\n",
    "# reorder dataset\n",
    "data_shuffled = [i for i in range(10)]\n",
    "random.shuffle(data_shuffled)\n",
    "print(\"\\nReshuffled: \")\n",
    "print(data_shuffled)\n",
    "\n",
    "# random pick 1 element\n",
    "best_architect = random.choice(architects)\n",
    "print(\"\\nThe Best Architect is:\")\n",
    "print(best_architect)\n",
    "\n",
    "print(\"\\nRandom pick w/o replacement:\")\n",
    "print(random.sample(architects,2))\n",
    "\n",
    "print(\"\\nRandom pick with replacement:\")\n",
    "print([random.choice(architects) for _ in range(10)]) # use _ since we don't actually use the index."
   ]
  },
  {
   "cell_type": "markdown",
   "metadata": {},
   "source": [
    "### REGULAR EXPRESSIONS"
   ]
  },
  {
   "cell_type": "code",
   "execution_count": 231,
   "metadata": {},
   "outputs": [
    {
     "name": "stdout",
     "output_type": "stream",
     "text": [
      "False\n",
      "True\n",
      "['z', 'h', '']\n",
      "aaaa\n"
     ]
    }
   ],
   "source": [
    "# to search text / data\n",
    "import re\n",
    "\n",
    "print (re.match(\"a\", \"zaha\") is not None) # because it begins with 'z' not 'a'\n",
    "print (re.search(\"a\", \"zaha\") is not None)\n",
    "print (re.split(\"a\",\"zaha\"))\n",
    "print (re.sub(\"['z','h']\",'a',\"zaha\"))\n"
   ]
  },
  {
   "cell_type": "markdown",
   "metadata": {},
   "source": [
    "### FUNCTIONAL PROGRAMMING"
   ]
  },
  {
   "cell_type": "code",
   "execution_count": 240,
   "metadata": {},
   "outputs": [
    {
     "name": "stdout",
     "output_type": "stream",
     "text": [
      "[(0, 'h'), (1, 'e'), (2, 'l'), (3, 'l'), (4, 'o')]\n",
      "[(0, 'h'), (1, 'e'), (2, 'l'), (3, 'l')]\n",
      "(0, 1, 2, 3, 4)\n",
      "('h', 'e', 'l', 'l', 'o')\n",
      "3\n"
     ]
    }
   ],
   "source": [
    "# transforms multiple iterables into a single iterable of tuples\n",
    "# zip is lazy\n",
    "list_a = [i for i in range(5)]\n",
    "list_b = [i for i in \"hello\"]\n",
    "list_c = [i for i in \"hell\"]\n",
    "print ([t for t in zip(list_a,list_b)])\n",
    "print ([t for t in zip(list_a,list_c)]) # zip stop at the shortest length (if lists are different in length)\n",
    "\n",
    "zipped_data = [t for t in zip(list_a,list_b)]\n",
    "# Unzip\n",
    "num, txt = zip(*zipped_data) # * is argument unpacking. uses elements of zipped_data as individual argument of zip.\n",
    "# OR\n",
    "# num, txt = zip(zipped_data[0],zipped_data[1],zipped_data[2],zipped_data[3],zipped_data[4])\n",
    "print(num)\n",
    "print (txt)\n",
    "# can be used for function too\n",
    "def adding (x,y): return x+y\n",
    "print(adding(*[1,2])) # it's like adding(1,2)\n"
   ]
  },
  {
   "cell_type": "markdown",
   "metadata": {},
   "source": [
    "### ARGS, KWARGS"
   ]
  },
  {
   "cell_type": "code",
   "execution_count": 89,
   "metadata": {},
   "outputs": [
    {
     "name": "stdout",
     "output_type": "stream",
     "text": [
      "60\n",
      "\n",
      "Dynamic Arugments and Keyword Arguments\n",
      "Unnamed: (10, 20)\n",
      "Named: {'name1': 30, 'name2': 40}\n",
      "\n",
      "Dynamic Arugments as List and Keyword Arguments as Dict:\n",
      "60\n"
     ]
    }
   ],
   "source": [
    "# higher-order functions\n",
    "def function1(f):\n",
    "    def g(x):\n",
    "        return 10*f(x)\n",
    "    return g\n",
    "\n",
    "g = function1(lambda x: x*2)\n",
    "print(g(3)) # 10*(3*2)\n",
    "\n",
    "# args is a tuple of its unnamed arguments\n",
    "# kwargs is a dict of its named arguments\n",
    "\n",
    "print(\"\\nDynamic Arguments and Keyword Arguments\")\n",
    "def flexi_function(*args, **kwargs):\n",
    "    print (f\"Unnamed: {args}\")\n",
    "    print (f\"Named: {kwargs}\")\n",
    "\n",
    "flexi_function(10,20,name1=30, name2=40)\n",
    "\n",
    "\n",
    "# Or input with list as args, and dict as kwargs\n",
    "def other_flexi_function(x,y,z):\n",
    "    return x+y+z\n",
    "\n",
    "list_x_y = [10,20]\n",
    "dict_z = {'z':30}\n",
    "print(\"\\nDynamic Arugments as List and Keyword Arguments as Dict:\")\n",
    "print (other_flexi_function(*list_x_y, **dict_z))"
   ]
  },
  {
   "cell_type": "code",
   "execution_count": null,
   "metadata": {},
   "outputs": [],
   "source": []
  }
 ],
 "metadata": {
  "kernelspec": {
   "display_name": "Python 3",
   "language": "python",
   "name": "python3"
  },
  "language_info": {
   "codemirror_mode": {
    "name": "ipython",
    "version": 3
   },
   "file_extension": ".py",
   "mimetype": "text/x-python",
   "name": "python",
   "nbconvert_exporter": "python",
   "pygments_lexer": "ipython3",
   "version": "3.8.8"
  }
 },
 "nbformat": 4,
 "nbformat_minor": 2
}
